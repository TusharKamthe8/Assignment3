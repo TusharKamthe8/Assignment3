{
 "cells": [
  {
   "cell_type": "code",
   "execution_count": 1,
   "id": "dda1625d-e494-4d60-89d6-31c2abed070c",
   "metadata": {},
   "outputs": [],
   "source": [
    "# Question No-1"
   ]
  },
  {
   "cell_type": "code",
   "execution_count": 51,
   "id": "3218a040-3dfe-43d2-9cb3-2c3a4fc53977",
   "metadata": {},
   "outputs": [
    {
     "name": "stdout",
     "output_type": "stream",
     "text": [
      "Using for-loop\n",
      "0 1 4 9 16 25 36 49 64 81 \n",
      "Using while-loop\n",
      "0 1 4 9 16 25 36 49 64 81 "
     ]
    }
   ],
   "source": [
    "\"\"\" For loop is used when the number of iterations are known from begining. \"\"\"\n",
    "\"\"\" While loop is used when we don't know how much iterations it will take to complete the given tas. \"\"\"\n",
    "# Example- For loop\n",
    "print(\"Using for-loop\")\n",
    "for i in range(0,10):\n",
    "    print(i**2,end=\" \")\n",
    "print()  \n",
    "\n",
    "# Example- While loop\n",
    "print(\"Using while-loop\")\n",
    "i = 0\n",
    "while i < 10:\n",
    "    print(i**2,end=\" \")\n",
    "    i = i + 1"
   ]
  },
  {
   "cell_type": "code",
   "execution_count": 7,
   "id": "963cfe30-a3cc-4f90-819c-340e38db6f1d",
   "metadata": {},
   "outputs": [],
   "source": [
    "# Question No-2"
   ]
  },
  {
   "cell_type": "code",
   "execution_count": 18,
   "id": "7b3885a8-badb-4bfb-a245-9ca0b6ea6a7e",
   "metadata": {},
   "outputs": [
    {
     "name": "stdout",
     "output_type": "stream",
     "text": [
      "Using for-loop Addition: 55 Multiplication: 3628800\n",
      "Using while-loop Addition: 55 Multiplication: 3628800\n"
     ]
    }
   ],
   "source": [
    "a = 0\n",
    "d = 1\n",
    "for i in range(1,11):\n",
    "    a = a + i\n",
    "    d = d * i\n",
    "print(\"Using for-loop Addition:\",a,\"Multiplication:\",d)\n",
    "i = 1\n",
    "e = 0\n",
    "f = 1\n",
    "while i<11 and i >=1:\n",
    "    e = e + i\n",
    "    f = f * i\n",
    "    i = i + 1\n",
    "print(\"Using while-loop Addition:\",e,\"Multiplication:\",f)"
   ]
  },
  {
   "cell_type": "code",
   "execution_count": 19,
   "id": "7533a311-8a1d-4780-9412-5aef12e73b9c",
   "metadata": {},
   "outputs": [],
   "source": [
    "# Question No-3"
   ]
  },
  {
   "cell_type": "code",
   "execution_count": 32,
   "id": "0bf549d6-4a07-4ce4-9339-66a0ee1652e7",
   "metadata": {},
   "outputs": [
    {
     "name": "stdin",
     "output_type": "stream",
     "text": [
      "Enter the units of electricity consumed: 310\n"
     ]
    },
    {
     "name": "stdout",
     "output_type": "stream",
     "text": [
      "Total Electricity bill to be paid is: 2250.0\n"
     ]
    }
   ],
   "source": [
    "n = int(input(\"Enter the units of electricity consumed:\"))\n",
    "a = n % 300\n",
    "for i in range(0,n):\n",
    "    if(i<=100):\n",
    "        c = i * 4.5\n",
    "    elif(i>=101)and(i<=200):\n",
    "        d = i/2 * 6\n",
    "    elif(i>=201)and(i<=300):\n",
    "        e = i/3 * 10\n",
    "    elif(i>300):\n",
    "        f = a * 20\n",
    "g = c + d + e + f\n",
    "print(\"Total Electricity bill to be paid is:\",g)"
   ]
  },
  {
   "cell_type": "code",
   "execution_count": 33,
   "id": "22513208-d8e0-49c9-b51e-eb46ef78bb1b",
   "metadata": {},
   "outputs": [],
   "source": [
    "# Question No-4"
   ]
  },
  {
   "cell_type": "code",
   "execution_count": 44,
   "id": "b9453d9c-823f-4026-b48d-86d3444c3d10",
   "metadata": {},
   "outputs": [
    {
     "name": "stdout",
     "output_type": "stream",
     "text": [
      "[8, 64, 125, 216, 512, 1000, 1728, 2744, 3375, 4096, 5832, 8000, 10648, 13824, 15625, 17576, 21952, 27000, 32768, 39304, 42875, 46656, 54872, 64000, 74088, 85184, 91125, 97336, 110592, 125000, 140608, 157464, 166375, 175616, 195112, 216000, 238328, 262144, 274625, 287496, 314432, 343000, 373248, 405224, 421875, 438976, 474552, 512000, 551368, 592704, 614125, 636056, 681472, 729000, 778688, 830584, 857375, 884736, 941192, 1000000]\n",
      "[8, 64, 125, 216, 512, 1000, 1728, 2744, 3375, 4096, 5832, 8000, 10648, 13824, 15625, 17576, 21952, 27000, 32768, 39304, 42875, 46656, 54872, 64000, 74088, 85184, 91125, 97336, 110592, 125000, 140608, 157464, 166375, 175616, 195112, 216000, 238328, 262144, 274625, 287496, 314432, 343000, 373248, 405224, 421875, 438976, 474552, 512000, 551368, 592704, 614125, 636056, 681472, 729000, 778688, 830584, 857375, 884736, 941192]\n"
     ]
    }
   ],
   "source": [
    "# Using for-loop\n",
    "print(\n",
    "lis = range(1,101)\n",
    "lis1 =[]\n",
    "for i in lis:\n",
    "    a = i ** 3\n",
    "    if (a%4==0) or (a%5==0):\n",
    "        lis1.append(a)\n",
    "print(lis1)\n",
    "\n",
    "# Using while-loop\n",
    "lis2=[]\n",
    "b = 1\n",
    "while b<100:\n",
    "    c = b ** 3\n",
    "    if (c%4==0) or (c%5==0):\n",
    "        lis2.append(c)\n",
    "    else:\n",
    "        pass\n",
    "    b = b + 1\n",
    "print(lis2)    "
   ]
  },
  {
   "cell_type": "code",
   "execution_count": 45,
   "id": "869c5543-177a-4b2d-86c2-bce530d9470b",
   "metadata": {},
   "outputs": [],
   "source": [
    "# Question No-5"
   ]
  },
  {
   "cell_type": "code",
   "execution_count": 48,
   "id": "6c5aa70d-0242-45a9-915d-95ed95f27491",
   "metadata": {},
   "outputs": [
    {
     "name": "stdout",
     "output_type": "stream",
     "text": [
      "12 Vowels are present in the string\n",
      "Which are as follows:\n",
      "['I', 'a', 'o', 'e', 'o', 'e', 'a', 'a', 'a', 'i', 'e', 'i']\n"
     ]
    }
   ],
   "source": [
    "s = \"I want to become a data scientist\"\n",
    "l=[]\n",
    "for i in range(0,len(s)):\n",
    "    if(s[i].upper()==\"A\" or s[i].upper()==\"E\" or s[i].upper()==\"I\" or s[i].upper()==\"O\" or s[i].upper()==\"U\"):\n",
    "        l.append(s[i])\n",
    "print(len(l),\"Vowels are present in the string\")\n",
    "print(\"Which are as follows:\")\n",
    "print(l)"
   ]
  },
  {
   "cell_type": "code",
   "execution_count": null,
   "id": "d8ace6f6-7bb9-4b2f-8db4-e38af7915a64",
   "metadata": {},
   "outputs": [],
   "source": []
  }
 ],
 "metadata": {
  "kernelspec": {
   "display_name": "Python 3 (ipykernel)",
   "language": "python",
   "name": "python3"
  },
  "language_info": {
   "codemirror_mode": {
    "name": "ipython",
    "version": 3
   },
   "file_extension": ".py",
   "mimetype": "text/x-python",
   "name": "python",
   "nbconvert_exporter": "python",
   "pygments_lexer": "ipython3",
   "version": "3.10.6"
  }
 },
 "nbformat": 4,
 "nbformat_minor": 5
}
